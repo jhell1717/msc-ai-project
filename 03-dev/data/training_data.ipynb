{
 "cells": [
  {
   "cell_type": "code",
   "execution_count": 17,
   "metadata": {},
   "outputs": [],
   "source": [
    "import numpy as np\n",
    "from tqdm import tqdm\n",
    "import pickle\n",
    "import matplotlib.pyplot as plt\n",
    "\n",
    "import Geometry\n",
    "from shape import Circle, Triangle, NoisyShape, Rectangle, Diamond, Heart, Oval, RotatedShape, Star"
   ]
  },
  {
   "cell_type": "code",
   "execution_count": 6,
   "metadata": {},
   "outputs": [],
   "source": [
    "num_shapes = 50000\n",
    "shapes = []"
   ]
  },
  {
   "cell_type": "code",
   "execution_count": 7,
   "metadata": {},
   "outputs": [
    {
     "name": "stderr",
     "output_type": "stream",
     "text": [
      "100%|██████████| 50000/50000 [00:05<00:00, 9673.62it/s] \n"
     ]
    }
   ],
   "source": [
    "for _ in tqdm(range(num_shapes)):\n",
    "    shape_type = np.random.choice(['Circle','Triangle','Rectangle','Diamond','Heart','Oval','Star'])\n",
    "\n",
    "    if shape_type == 'Circle':\n",
    "        shape = Circle(n_points=100)\n",
    "        # shape.plot()\n",
    "    if shape_type == 'Triangle':\n",
    "        shape = Triangle(n_points=100)\n",
    "        # shape.plot()\n",
    "\n",
    "    if shape_type == 'Rectangle':\n",
    "        shape = Rectangle(n_points=100)\n",
    "        # shape.plot()\n",
    "\n",
    "    if shape_type == 'Diamond':\n",
    "        shape = Diamond(n_points=100)\n",
    "        # shape.plot()\n",
    "\n",
    "    if shape_type == 'Heart':\n",
    "        shape = Heart(n_points=100)\n",
    "        # shape.plot()\n",
    "\n",
    "    if shape_type == 'Star':\n",
    "        shape = Star(n_points=100)\n",
    "        # shape.plot()\n",
    "\n",
    "    if shape_type == 'Oval':\n",
    "        shape = Oval(n_points=100)\n",
    "        # shape.plot()\n",
    "\n",
    "    if np.random.rand() > 0.5:\n",
    "        shape = RotatedShape(shape,max_rotation=360)\n",
    "\n",
    "    if np.random.rand() > 0.7:\n",
    "        noise_fraction = np.random.uniform(0.3,0.7)\n",
    "        shape = NoisyShape(shape,noise_level=np.random.uniform(0.01,0.05),noise_fraction=noise_fraction)\n",
    "\n",
    "    shapes.append(shape)"
   ]
  },
  {
   "cell_type": "code",
   "execution_count": 12,
   "metadata": {},
   "outputs": [],
   "source": [
    "with open('/Users/joshuahellewell/Desktop/02-msc/01-modules/MSc Project - 771952/04-data/shape_data/shapes_dataset.pkl','wb') as f:\n",
    "    pickle.dump(shapes,f)\n",
    "\n",
    "with open(r'/Users/joshuahellewell/Desktop/02-msc/01-modules/MSc Project - 771952/04-data/shape_data/shapes_dataset.pkl', \"rb\") as f:\n",
    "    shapes = pickle.load(f)"
   ]
  },
  {
   "cell_type": "code",
   "execution_count": 14,
   "metadata": {},
   "outputs": [
    {
     "name": "stdout",
     "output_type": "stream",
     "text": [
      "tensor([4.5889e-01, 0.0000e+00, 4.7470e-01, 3.2366e-04, 4.9052e-01, 6.4732e-04,\n",
      "        5.0634e-01, 9.7098e-04, 5.2216e-01, 1.2946e-03, 5.3798e-01, 1.6183e-03,\n",
      "        5.5380e-01, 1.9420e-03, 5.6962e-01, 2.2656e-03, 5.8543e-01, 2.5893e-03,\n",
      "        6.0125e-01, 2.9129e-03, 6.1707e-01, 3.2366e-03, 6.3289e-01, 3.5603e-03,\n",
      "        6.4871e-01, 3.8839e-03, 6.6453e-01, 4.2076e-03, 6.8034e-01, 4.5312e-03,\n",
      "        6.9616e-01, 4.8549e-03, 7.1198e-01, 5.1786e-03, 7.2780e-01, 5.5022e-03,\n",
      "        7.4362e-01, 5.8259e-03, 7.5944e-01, 6.1495e-03, 7.7525e-01, 6.4732e-03,\n",
      "        7.9107e-01, 6.7969e-03, 8.0689e-01, 7.1205e-03, 8.2271e-01, 7.4442e-03,\n",
      "        8.3853e-01, 7.7678e-03, 8.5382e-01, 1.1498e-02, 8.6040e-01, 2.5540e-02,\n",
      "        8.6647e-01, 4.0151e-02, 8.7254e-01, 5.4762e-02, 8.7861e-01, 6.9373e-02,\n",
      "        8.8468e-01, 8.3985e-02, 8.9075e-01, 9.8596e-02, 8.9682e-01, 1.1321e-01,\n",
      "        9.0289e-01, 1.2782e-01, 9.0896e-01, 1.4243e-01, 9.1503e-01, 1.5704e-01,\n",
      "        9.2110e-01, 1.7165e-01, 9.2717e-01, 1.8626e-01, 9.3324e-01, 2.0087e-01,\n",
      "        9.3931e-01, 2.1549e-01, 9.4538e-01, 2.3010e-01, 9.5144e-01, 2.4471e-01,\n",
      "        9.5751e-01, 2.5932e-01, 9.6358e-01, 2.7393e-01, 9.6965e-01, 2.8854e-01,\n",
      "        9.7572e-01, 3.0315e-01, 9.8179e-01, 3.1776e-01, 9.8786e-01, 3.3238e-01,\n",
      "        9.9393e-01, 3.4699e-01, 1.0000e+00, 3.6160e-01, 9.9290e-01, 3.7200e-01,\n",
      "        9.7708e-01, 3.7168e-01, 9.6126e-01, 3.7136e-01, 9.4544e-01, 3.7103e-01,\n",
      "        9.2963e-01, 3.7071e-01, 9.1381e-01, 3.7039e-01, 8.9799e-01, 3.7006e-01,\n",
      "        8.8217e-01, 3.6974e-01, 8.6635e-01, 3.6941e-01, 8.5053e-01, 3.6909e-01,\n",
      "        8.3472e-01, 3.6877e-01, 8.1890e-01, 3.6844e-01, 8.0308e-01, 3.6812e-01,\n",
      "        7.8726e-01, 3.6780e-01, 7.7144e-01, 3.6747e-01, 7.5562e-01, 3.6715e-01,\n",
      "        7.3981e-01, 3.6682e-01, 7.2399e-01, 3.6650e-01, 7.0817e-01, 3.6618e-01,\n",
      "        6.9235e-01, 3.6585e-01, 6.7653e-01, 3.6553e-01, 6.6071e-01, 3.6521e-01,\n",
      "        6.4490e-01, 3.6488e-01, 6.2908e-01, 3.6456e-01, 6.1360e-01, 3.6355e-01,\n",
      "        6.0455e-01, 3.5067e-01, 5.9848e-01, 3.3606e-01, 5.9241e-01, 3.2145e-01,\n",
      "        5.8634e-01, 3.0684e-01, 5.8027e-01, 2.9222e-01, 5.7421e-01, 2.7761e-01,\n",
      "        5.6814e-01, 2.6300e-01, 5.6207e-01, 2.4839e-01, 5.5600e-01, 2.3378e-01,\n",
      "        5.4993e-01, 2.1917e-01, 5.4386e-01, 2.0456e-01, 5.3779e-01, 1.8995e-01,\n",
      "        5.3172e-01, 1.7533e-01, 5.2565e-01, 1.6072e-01, 5.1958e-01, 1.4611e-01,\n",
      "        5.1351e-01, 1.3150e-01, 5.0744e-01, 1.1689e-01, 5.0137e-01, 1.0228e-01,\n",
      "        4.9530e-01, 8.7667e-02, 4.8923e-01, 7.3056e-02, 4.8316e-01, 5.8445e-02,\n",
      "        4.7709e-01, 4.3834e-02, 4.7103e-01, 2.9222e-02, 4.6496e-01, 1.4611e-02,\n",
      "        4.5889e-01, 0.0000e+00])\n"
     ]
    }
   ],
   "source": [
    "dataset = Geometry.ShapeData(shapes)\n",
    "print(next(iter(dataset)))"
   ]
  },
  {
   "cell_type": "code",
   "execution_count": null,
   "metadata": {},
   "outputs": [],
   "source": []
  }
 ],
 "metadata": {
  "kernelspec": {
   "display_name": "VAE",
   "language": "python",
   "name": "python3"
  },
  "language_info": {
   "codemirror_mode": {
    "name": "ipython",
    "version": 3
   },
   "file_extension": ".py",
   "mimetype": "text/x-python",
   "name": "python",
   "nbconvert_exporter": "python",
   "pygments_lexer": "ipython3",
   "version": "3.13.1"
  }
 },
 "nbformat": 4,
 "nbformat_minor": 2
}
